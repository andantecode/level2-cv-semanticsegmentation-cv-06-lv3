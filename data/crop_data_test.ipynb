{
 "cells": [
  {
   "cell_type": "code",
   "execution_count": 1,
   "metadata": {},
   "outputs": [
    {
     "name": "stderr",
     "output_type": "stream",
     "text": [
      "/opt/conda/lib/python3.10/site-packages/tqdm/auto.py:21: TqdmWarning: IProgress not found. Please update jupyter and ipywidgets. See https://ipywidgets.readthedocs.io/en/stable/user_install.html\n",
      "  from .autonotebook import tqdm as notebook_tqdm\n",
      "/opt/conda/lib/python3.10/site-packages/albumentations/__init__.py:13: UserWarning: A new version of Albumentations is available: 1.4.21 (you have 1.4.18). Upgrade using: pip install -U albumentations. To disable automatic update checks, set the environment variable NO_ALBUMENTATIONS_UPDATE to 1.\n",
      "  check_for_updates()\n"
     ]
    }
   ],
   "source": [
    "# python native\n",
    "import os\n",
    "import json\n",
    "import random\n",
    "import datetime\n",
    "from functools import partial\n",
    "\n",
    "# external library\n",
    "import cv2\n",
    "import numpy as np\n",
    "import pandas as pd\n",
    "from tqdm.auto import tqdm\n",
    "from sklearn.model_selection import GroupKFold\n",
    "import albumentations as A\n",
    "\n",
    "# torch\n",
    "import torch\n",
    "import torch.nn as nn\n",
    "import torch.nn.functional as F\n",
    "import torch.optim as optim\n",
    "from torch.utils.data import Dataset, DataLoader\n",
    "from torchvision import models\n",
    "\n",
    "# visualization\n",
    "import matplotlib.pyplot as plt"
   ]
  },
  {
   "cell_type": "code",
   "execution_count": 2,
   "metadata": {},
   "outputs": [],
   "source": [
    "IMAGE_ROOT = \"/data/ephemeral/home/level2-cv-semanticsegmentation-cv-06-lv3/data/fold_test/images\"\n",
    "#LABEL_ROOT = \"/data/ephemeral/home/level2-cv-semanticsegmentation-cv-06-lv3/data/fold_0/annos\""
   ]
  },
  {
   "cell_type": "code",
   "execution_count": 3,
   "metadata": {},
   "outputs": [],
   "source": [
    "CLASSES = [\n",
    "    'finger-1', 'finger-2', 'finger-3', 'finger-4', 'finger-5',\n",
    "    'finger-6', 'finger-7', 'finger-8', 'finger-9', 'finger-10',\n",
    "    'finger-11', 'finger-12', 'finger-13', 'finger-14', 'finger-15',\n",
    "    'finger-16', 'finger-17', 'finger-18', 'finger-19', 'Trapezium',\n",
    "    'Trapezoid', 'Capitate', 'Hamate', 'Scaphoid', 'Lunate',\n",
    "    'Triquetrum', 'Pisiform', 'Radius', 'Ulna',\n",
    "]"
   ]
  },
  {
   "cell_type": "code",
   "execution_count": 4,
   "metadata": {},
   "outputs": [],
   "source": [
    "CLASS2IND = {v: i for i, v in enumerate(CLASSES)}\n",
    "IND2CLASS = {v: k for k, v in CLASS2IND.items()}\n"
   ]
  },
  {
   "cell_type": "code",
   "execution_count": 7,
   "metadata": {},
   "outputs": [],
   "source": [
    "pngs = {\n",
    "    os.path.relpath(os.path.join(root, fname), start=IMAGE_ROOT)\n",
    "    for root, _dirs, files in os.walk(IMAGE_ROOT)\n",
    "    for fname in files\n",
    "    if os.path.splitext(fname)[1].lower() == \".png\"\n",
    "}"
   ]
  },
  {
   "cell_type": "code",
   "execution_count": 8,
   "metadata": {},
   "outputs": [
    {
     "name": "stdout",
     "output_type": "stream",
     "text": [
      "Sample PNG paths: ['ID047_image1661389291522.png', 'ID270_image1664154396535.png', 'ID257_image1663724282043.png', 'ID221_image1663120209081.png', 'ID220_image1663120015357.png']\n"
     ]
    }
   ],
   "source": [
    "print(\"Sample PNG paths:\", list(pngs)[:5])"
   ]
  },
  {
   "cell_type": "code",
   "execution_count": 9,
   "metadata": {},
   "outputs": [
    {
     "data": {
      "text/plain": [
       "288"
      ]
     },
     "execution_count": 9,
     "metadata": {},
     "output_type": "execute_result"
    }
   ],
   "source": [
    "len(pngs)"
   ]
  },
  {
   "cell_type": "code",
   "execution_count": 10,
   "metadata": {},
   "outputs": [],
   "source": [
    "pngs = sorted(pngs)"
   ]
  },
  {
   "cell_type": "code",
   "execution_count": 11,
   "metadata": {},
   "outputs": [],
   "source": [
    "df_input = pd.read_csv('./output_9750.csv')"
   ]
  },
  {
   "cell_type": "code",
   "execution_count": 12,
   "metadata": {},
   "outputs": [
    {
     "data": {
      "text/plain": [
       "'image1661319116107.png'"
      ]
     },
     "execution_count": 12,
     "metadata": {},
     "output_type": "execute_result"
    }
   ],
   "source": [
    "pngs[0].split('_')[1]"
   ]
  },
  {
   "cell_type": "code",
   "execution_count": 13,
   "metadata": {},
   "outputs": [],
   "source": [
    "image_dict = {name.split(\"_\")[1]:name for name in list(pngs)}\n"
   ]
  },
  {
   "cell_type": "code",
   "execution_count": 14,
   "metadata": {},
   "outputs": [],
   "source": [
    "df_input[\"image_path\"] = df_input['image_name'].apply(lambda x: image_dict[x])"
   ]
  },
  {
   "cell_type": "code",
   "execution_count": 15,
   "metadata": {},
   "outputs": [],
   "source": [
    "def rle_to_mask(rle, height, width):\n",
    "    mask = np.zeros(height * width, dtype=np.uint8)\n",
    "    array = np.asarray([int(x) for x in rle.split()])\n",
    "    starts = array[0::2] - 1\n",
    "    lengths = array[1::2]\n",
    "    for start, length in zip(starts, lengths):\n",
    "        mask[start:start + length] = 1\n",
    "    return mask.reshape((height, width))"
   ]
  },
  {
   "cell_type": "code",
   "execution_count": 16,
   "metadata": {},
   "outputs": [],
   "source": [
    "class XRayDataset(Dataset):\n",
    "    def __init__(self, df, is_train=True, transforms=None):\n",
    "        \n",
    "        \n",
    "        self.df = df\n",
    "        _filenames = self.df['image_name'].unique()\n",
    "\n",
    "        self.filenames = _filenames\n",
    "        self.is_train = is_train\n",
    "        self.transforms = transforms\n",
    "    \n",
    "    def __len__(self):\n",
    "        return len(self.filenames)\n",
    "    \n",
    "    def __getitem__(self, item):\n",
    "        # image_name = self.filenames[item]\n",
    "        # image_path = os.path.join(IMAGE_ROOT, image_name)\n",
    "\n",
    "        df_ = self.df[self.df['image_name']==self.filenames[item]]\n",
    "\n",
    "        image_path = df_['image_path'].iloc[0]\n",
    "\n",
    "        # image = cv2.imread(image_path)\n",
    "        image = cv2.imread(os.path.join(IMAGE_ROOT, image_path))\n",
    "        # image = image / 255.\n",
    "\n",
    "        label_shape = tuple(image.shape[:2]) + (len(CLASSES), )\n",
    "        label = np.zeros(label_shape, dtype=np.uint8)\n",
    "\n",
    "        for index, row in df_.iterrows():\n",
    "            rle = row['rle']\n",
    "            class_ind = CLASS2IND[row['class']]\n",
    "            mask = rle_to_mask(rle, 2048, 2048)\n",
    "            label[..., class_ind] = mask\n",
    "\n",
    "                \n",
    "            \n",
    "        return image, label, image_path"
   ]
  },
  {
   "cell_type": "code",
   "execution_count": 17,
   "metadata": {},
   "outputs": [],
   "source": [
    "train_dataset = XRayDataset(df_input,is_train=True, transforms=None)"
   ]
  },
  {
   "cell_type": "code",
   "execution_count": 21,
   "metadata": {},
   "outputs": [
    {
     "data": {
      "text/plain": [
       "'ID040_image1661319116107.png'"
      ]
     },
     "execution_count": 21,
     "metadata": {},
     "output_type": "execute_result"
    }
   ],
   "source": [
    "train_dataset[0][2]"
   ]
  },
  {
   "cell_type": "code",
   "execution_count": 23,
   "metadata": {},
   "outputs": [],
   "source": [
    "SAVE_ROOT = './crop_test_Trapezoid'"
   ]
  },
  {
   "cell_type": "code",
   "execution_count": 20,
   "metadata": {},
   "outputs": [],
   "source": [
    "from tqdm import tqdm "
   ]
  },
  {
   "cell_type": "code",
   "execution_count": 22,
   "metadata": {},
   "outputs": [
    {
     "data": {
      "text/plain": [
       "20"
      ]
     },
     "execution_count": 22,
     "metadata": {},
     "output_type": "execute_result"
    }
   ],
   "source": [
    "CLASS2IND['Trapezoid']"
   ]
  },
  {
   "cell_type": "code",
   "execution_count": 24,
   "metadata": {},
   "outputs": [
    {
     "name": "stderr",
     "output_type": "stream",
     "text": [
      "100%|██████████| 288/288 [03:30<00:00,  1.36it/s]\n"
     ]
    }
   ],
   "source": [
    "fold_dir = os.path.join(SAVE_ROOT)\n",
    "os.makedirs(fold_dir, exist_ok=True)\n",
    "\n",
    "image_dir = os.path.join(fold_dir, 'images')\n",
    "os.makedirs(image_dir, exist_ok=True)\n",
    "\n",
    "# annos_dir = os.path.join(fold_dir, 'annos')\n",
    "# os.makedirs(annos_dir, exist_ok=True)\n",
    "\n",
    "crop_size = (224, 224)  # (height, width)\n",
    "\n",
    "for i in tqdm(range(len(train_dataset))):\n",
    "    image, label, image_path = train_dataset[i]\n",
    "\n",
    "    # for k in [CLASS2IND['Trapezoid']]: # ,CLASS2IND['Pisiform']\n",
    "    # for k in [CLASS2IND['Pisiform']]:\n",
    "    for k in [CLASS2IND['Trapezoid']]:\n",
    "\n",
    "        coords = np.column_stack(np.where(label[:,:,k] > 0))\n",
    "\n",
    "        x_min, y_min = coords.min(axis=0)  \n",
    "        x_max, y_max = coords.max(axis=0)  \n",
    "\n",
    "\n",
    "        if abs(x_max - x_min) > crop_size[0] or abs(y_max - y_min) > crop_size[1]:\n",
    "            print(abs(x_max - x_min))\n",
    "            print(abs(y_max - y_min))\n",
    "            print('????')\n",
    "\n",
    "\n",
    "        center_x = (x_min + x_max) // 2\n",
    "        center_y = (y_min + y_max) // 2\n",
    "\n",
    "        half_h = crop_size[0] // 2\n",
    "        half_w = crop_size[1] // 2\n",
    "\n",
    "        # cropped_image = image[x_min-10:x_max+10,y_min-10:y_max+10]\n",
    "        # cropped_mask = label[x_min-10:x_max+10,y_min-10:y_max+10,k]\n",
    "\n",
    "        start_x = max(center_x - half_h, 0)\n",
    "        start_y = max(center_y - half_w, 0)\n",
    "        end_x = start_x + crop_size[0]\n",
    "        end_y = start_y + crop_size[1]\n",
    "\n",
    "        if end_x > image.shape[0]:\n",
    "            start_x = image.shape[0] - crop_size[0]\n",
    "            end_x = image.shape[0]\n",
    "\n",
    "        if end_y > image.shape[1]:\n",
    "            start_y = image.shape[1] - crop_size[1]\n",
    "            end_y = image.shape[1]\n",
    "\n",
    "        cropped_image = image[start_x:end_x, start_y:end_y]\n",
    "        # cropped_mask = label[start_x:end_x, start_y:end_y, k]\n",
    "\n",
    "        output_image_path = os.path.join(image_dir,str(k)+'_'+image_path)\n",
    "\n",
    "    # break \n",
    "        cv2.imwrite(output_image_path, cropped_image)\n",
    "\n",
    "        # t = str(k)+'_'+label_path.split('/')[-1]\n",
    "        # t = t[:-4] + \"png\"\n",
    "        # output_label_path = os.path.join(annos_dir,t)\n",
    "\n",
    "        # cv2.imwrite(output_label_path, cropped_mask)\n"
   ]
  },
  {
   "cell_type": "code",
   "execution_count": null,
   "metadata": {},
   "outputs": [],
   "source": []
  },
  {
   "cell_type": "code",
   "execution_count": null,
   "metadata": {},
   "outputs": [],
   "source": []
  }
 ],
 "metadata": {
  "kernelspec": {
   "display_name": "base",
   "language": "python",
   "name": "python3"
  },
  "language_info": {
   "codemirror_mode": {
    "name": "ipython",
    "version": 3
   },
   "file_extension": ".py",
   "mimetype": "text/x-python",
   "name": "python",
   "nbconvert_exporter": "python",
   "pygments_lexer": "ipython3",
   "version": "3.10.13"
  }
 },
 "nbformat": 4,
 "nbformat_minor": 2
}
