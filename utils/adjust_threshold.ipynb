{
 "cells": [
  {
   "cell_type": "code",
   "execution_count": 1,
   "metadata": {},
   "outputs": [
    {
     "name": "stderr",
     "output_type": "stream",
     "text": [
      "/opt/conda/lib/python3.10/site-packages/tqdm/auto.py:21: TqdmWarning: IProgress not found. Please update jupyter and ipywidgets. See https://ipywidgets.readthedocs.io/en/stable/user_install.html\n",
      "  from .autonotebook import tqdm as notebook_tqdm\n"
     ]
    }
   ],
   "source": [
    "# python native\n",
    "import os\n",
    "import json\n",
    "import random\n",
    "import datetime\n",
    "from functools import partial\n",
    "\n",
    "# external library\n",
    "import cv2\n",
    "import numpy as np\n",
    "import pandas as pd\n",
    "from tqdm.auto import tqdm\n",
    "from sklearn.model_selection import GroupKFold\n",
    "\n",
    "# visualization\n",
    "import matplotlib.pyplot as plt\n",
    "\n",
    "# torch\n",
    "import torch"
   ]
  },
  {
   "cell_type": "markdown",
   "metadata": {},
   "source": [
    "## Image Path Setting"
   ]
  },
  {
   "cell_type": "code",
   "execution_count": 2,
   "metadata": {},
   "outputs": [],
   "source": [
    "IMAGE_ROOT = \"/data/ephemeral/data/train/DCM\"\n",
    "LABEL_ROOT = \"/data/ephemeral/data/train/outputs_json\""
   ]
  },
  {
   "cell_type": "markdown",
   "metadata": {},
   "source": [
    "## Load Dataset"
   ]
  },
  {
   "cell_type": "code",
   "execution_count": 3,
   "metadata": {},
   "outputs": [],
   "source": [
    "CLASSES = [\n",
    "    'finger-1', 'finger-2', 'finger-3', 'finger-4', 'finger-5',\n",
    "    'finger-6', 'finger-7', 'finger-8', 'finger-9', 'finger-10',\n",
    "    'finger-11', 'finger-12', 'finger-13', 'finger-14', 'finger-15',\n",
    "    'finger-16', 'finger-17', 'finger-18', 'finger-19', 'Trapezium',\n",
    "    'Trapezoid', 'Capitate', 'Hamate', 'Scaphoid', 'Lunate',\n",
    "    'Triquetrum', 'Pisiform', 'Radius', 'Ulna',\n",
    "]\n",
    "CLASS2IND = {v: i for i, v in enumerate(CLASSES)}\n",
    "IND2CLASS = {v: k for k, v in CLASS2IND.items()}\n",
    "\n",
    "pngs = {\n",
    "    os.path.relpath(os.path.join(root, fname), start=IMAGE_ROOT)\n",
    "    for root, _dirs, files in os.walk(IMAGE_ROOT)\n",
    "    for fname in files\n",
    "    if os.path.splitext(fname)[1].lower() == \".png\"\n",
    "}\n",
    "\n",
    "jsons = {\n",
    "    os.path.relpath(os.path.join(root, fname), start=LABEL_ROOT)\n",
    "    for root, _dirs, files in os.walk(LABEL_ROOT)\n",
    "    for fname in files\n",
    "    if os.path.splitext(fname)[1].lower() == \".json\"\n",
    "}"
   ]
  },
  {
   "cell_type": "markdown",
   "metadata": {},
   "source": [
    "## ValidationSet에 대한 예측 결과 불러오기"
   ]
  },
  {
   "cell_type": "code",
   "execution_count": 4,
   "metadata": {},
   "outputs": [],
   "source": [
    "df = pd.read_csv('/data/ephemeral/hbis/logs/base.csv')"
   ]
  },
  {
   "cell_type": "code",
   "execution_count": 5,
   "metadata": {},
   "outputs": [
    {
     "data": {
      "text/plain": [
       "1571"
      ]
     },
     "execution_count": 5,
     "metadata": {},
     "output_type": "execute_result"
    }
   ],
   "source": [
    "len(df.iloc[0]['rle'])"
   ]
  },
  {
   "cell_type": "code",
   "execution_count": 6,
   "metadata": {},
   "outputs": [
    {
     "data": {
      "text/html": [
       "<div>\n",
       "<style scoped>\n",
       "    .dataframe tbody tr th:only-of-type {\n",
       "        vertical-align: middle;\n",
       "    }\n",
       "\n",
       "    .dataframe tbody tr th {\n",
       "        vertical-align: top;\n",
       "    }\n",
       "\n",
       "    .dataframe thead th {\n",
       "        text-align: right;\n",
       "    }\n",
       "</style>\n",
       "<table border=\"1\" class=\"dataframe\">\n",
       "  <thead>\n",
       "    <tr style=\"text-align: right;\">\n",
       "      <th></th>\n",
       "      <th>image_name</th>\n",
       "      <th>class</th>\n",
       "      <th>rle</th>\n",
       "    </tr>\n",
       "  </thead>\n",
       "  <tbody>\n",
       "    <tr>\n",
       "      <th>0</th>\n",
       "      <td>image1661130828152</td>\n",
       "      <td>finger-1</td>\n",
       "      <td>1456602 10 1458648 15 1460694 20 1462741 23 14...</td>\n",
       "    </tr>\n",
       "    <tr>\n",
       "      <th>1</th>\n",
       "      <td>image1661130828152</td>\n",
       "      <td>finger-2</td>\n",
       "      <td>1696305 6 1698350 15 1700395 23 1702442 26 170...</td>\n",
       "    </tr>\n",
       "    <tr>\n",
       "      <th>2</th>\n",
       "      <td>image1661130828152</td>\n",
       "      <td>finger-3</td>\n",
       "      <td>2083503 5 2085547 12 2087593 16 2089640 19 209...</td>\n",
       "    </tr>\n",
       "    <tr>\n",
       "      <th>3</th>\n",
       "      <td>image1661130828152</td>\n",
       "      <td>finger-4</td>\n",
       "      <td>471786 8 473831 15 475877 19 477923 23 479970 ...</td>\n",
       "    </tr>\n",
       "    <tr>\n",
       "      <th>4</th>\n",
       "      <td>image1661130828152</td>\n",
       "      <td>finger-5</td>\n",
       "      <td>684810 7 686853 14 688897 19 690941 24 692985 ...</td>\n",
       "    </tr>\n",
       "  </tbody>\n",
       "</table>\n",
       "</div>"
      ],
      "text/plain": [
       "           image_name     class  \\\n",
       "0  image1661130828152  finger-1   \n",
       "1  image1661130828152  finger-2   \n",
       "2  image1661130828152  finger-3   \n",
       "3  image1661130828152  finger-4   \n",
       "4  image1661130828152  finger-5   \n",
       "\n",
       "                                                 rle  \n",
       "0  1456602 10 1458648 15 1460694 20 1462741 23 14...  \n",
       "1  1696305 6 1698350 15 1700395 23 1702442 26 170...  \n",
       "2  2083503 5 2085547 12 2087593 16 2089640 19 209...  \n",
       "3  471786 8 473831 15 475877 19 477923 23 479970 ...  \n",
       "4  684810 7 686853 14 688897 19 690941 24 692985 ...  "
      ]
     },
     "execution_count": 6,
     "metadata": {},
     "output_type": "execute_result"
    }
   ],
   "source": [
    "df.head()"
   ]
  },
  {
   "cell_type": "code",
   "execution_count": 7,
   "metadata": {},
   "outputs": [],
   "source": [
    "df = df[~df['image_name'].isin(['image1661130828152', 'image1661130891365'])]"
   ]
  },
  {
   "cell_type": "code",
   "execution_count": 8,
   "metadata": {},
   "outputs": [],
   "source": [
    "list(pngs)[1].split(\"/\")[1]\n",
    "\n",
    "image_dict = {name.split(\"/\")[1]:name for name in list(pngs)}\n",
    "label_dict = {name.split(\"/\")[1][:-4]+'png':name for name in list(jsons)}\n",
    "\n",
    "df[\"image_path\"] = df['image_name'].apply(lambda x: image_dict[x])\n",
    "df[\"label_path\"] = df['image_name'].apply(lambda x: label_dict[x])"
   ]
  },
  {
   "cell_type": "code",
   "execution_count": 9,
   "metadata": {},
   "outputs": [
    {
     "data": {
      "text/plain": [
       "'ID001/image1661130828152_R.png'"
      ]
     },
     "execution_count": 9,
     "metadata": {},
     "output_type": "execute_result"
    }
   ],
   "source": [
    "image_dict['image1661130828152_R.png']"
   ]
  },
  {
   "cell_type": "code",
   "execution_count": 10,
   "metadata": {},
   "outputs": [
    {
     "name": "stdout",
     "output_type": "stream",
     "text": [
      "ID001/image1661130828152_R.png\n"
     ]
    }
   ],
   "source": [
    "print(image_dict['image1661130828152_R.png'])"
   ]
  },
  {
   "cell_type": "markdown",
   "metadata": {},
   "source": [
    "## Decoding method (rle to mask)"
   ]
  },
  {
   "cell_type": "code",
   "execution_count": 11,
   "metadata": {},
   "outputs": [],
   "source": [
    "def rle_to_mask(rle, height, width):\n",
    "    mask = np.zeros(height * width, dtype=np.uint8)\n",
    "    array = np.asarray([int(x) for x in rle.split()])\n",
    "    starts = array[0::2] - 1\n",
    "    lengths = array[1::2]\n",
    "    for start, length in zip(starts, lengths):\n",
    "        mask[start:start + length] = 1\n",
    "    return mask.reshape((height, width))"
   ]
  },
  {
   "cell_type": "code",
   "execution_count": 12,
   "metadata": {},
   "outputs": [],
   "source": [
    "def mask_to_poly_seg(mask):\n",
    "    points = np.argwhere(mask == 1)\n",
    "    points = points[:, [1, 0]]  # (row, col) => (x, y)\n",
    "    return points.tolist()"
   ]
  },
  {
   "cell_type": "code",
   "execution_count": 13,
   "metadata": {},
   "outputs": [
    {
     "data": {
      "text/html": [
       "<div>\n",
       "<style scoped>\n",
       "    .dataframe tbody tr th:only-of-type {\n",
       "        vertical-align: middle;\n",
       "    }\n",
       "\n",
       "    .dataframe tbody tr th {\n",
       "        vertical-align: top;\n",
       "    }\n",
       "\n",
       "    .dataframe thead th {\n",
       "        text-align: right;\n",
       "    }\n",
       "</style>\n",
       "<table border=\"1\" class=\"dataframe\">\n",
       "  <thead>\n",
       "    <tr style=\"text-align: right;\">\n",
       "      <th></th>\n",
       "      <th>image_name</th>\n",
       "      <th>class</th>\n",
       "      <th>rle</th>\n",
       "      <th>image_path</th>\n",
       "      <th>label_path</th>\n",
       "    </tr>\n",
       "  </thead>\n",
       "  <tbody>\n",
       "    <tr>\n",
       "      <th>58</th>\n",
       "      <td>image1661144691792.png</td>\n",
       "      <td>finger-1</td>\n",
       "      <td>1841712 12 1843757 18 1845803 22 1847850 25 18...</td>\n",
       "      <td>ID004/image1661144691792.png</td>\n",
       "      <td>ID004/image1661144691792.json</td>\n",
       "    </tr>\n",
       "    <tr>\n",
       "      <th>59</th>\n",
       "      <td>image1661144691792.png</td>\n",
       "      <td>finger-2</td>\n",
       "      <td>2077319 9 2079363 16 2081408 21 2083455 24 208...</td>\n",
       "      <td>ID004/image1661144691792.png</td>\n",
       "      <td>ID004/image1661144691792.json</td>\n",
       "    </tr>\n",
       "    <tr>\n",
       "      <th>60</th>\n",
       "      <td>image1661144691792.png</td>\n",
       "      <td>finger-3</td>\n",
       "      <td>2460359 5 2462401 14 2464445 20 2466491 26 246...</td>\n",
       "      <td>ID004/image1661144691792.png</td>\n",
       "      <td>ID004/image1661144691792.json</td>\n",
       "    </tr>\n",
       "    <tr>\n",
       "      <th>61</th>\n",
       "      <td>image1661144691792.png</td>\n",
       "      <td>finger-4</td>\n",
       "      <td>942936 7 944981 13 947027 16 949073 19 951120 ...</td>\n",
       "      <td>ID004/image1661144691792.png</td>\n",
       "      <td>ID004/image1661144691792.json</td>\n",
       "    </tr>\n",
       "    <tr>\n",
       "      <th>62</th>\n",
       "      <td>image1661144691792.png</td>\n",
       "      <td>finger-5</td>\n",
       "      <td>1174389 2 1176433 7 1178476 13 1180519 19 1182...</td>\n",
       "      <td>ID004/image1661144691792.png</td>\n",
       "      <td>ID004/image1661144691792.json</td>\n",
       "    </tr>\n",
       "  </tbody>\n",
       "</table>\n",
       "</div>"
      ],
      "text/plain": [
       "                image_name     class  \\\n",
       "58  image1661144691792.png  finger-1   \n",
       "59  image1661144691792.png  finger-2   \n",
       "60  image1661144691792.png  finger-3   \n",
       "61  image1661144691792.png  finger-4   \n",
       "62  image1661144691792.png  finger-5   \n",
       "\n",
       "                                                  rle  \\\n",
       "58  1841712 12 1843757 18 1845803 22 1847850 25 18...   \n",
       "59  2077319 9 2079363 16 2081408 21 2083455 24 208...   \n",
       "60  2460359 5 2462401 14 2464445 20 2466491 26 246...   \n",
       "61  942936 7 944981 13 947027 16 949073 19 951120 ...   \n",
       "62  1174389 2 1176433 7 1178476 13 1180519 19 1182...   \n",
       "\n",
       "                      image_path                     label_path  \n",
       "58  ID004/image1661144691792.png  ID004/image1661144691792.json  \n",
       "59  ID004/image1661144691792.png  ID004/image1661144691792.json  \n",
       "60  ID004/image1661144691792.png  ID004/image1661144691792.json  \n",
       "61  ID004/image1661144691792.png  ID004/image1661144691792.json  \n",
       "62  ID004/image1661144691792.png  ID004/image1661144691792.json  "
      ]
     },
     "execution_count": 13,
     "metadata": {},
     "output_type": "execute_result"
    }
   ],
   "source": [
    "df.head()"
   ]
  },
  {
   "cell_type": "markdown",
   "metadata": {},
   "source": [
    "## Validation Dataset에 대해 클래스 별 over & under pixels 계산"
   ]
  },
  {
   "cell_type": "code",
   "execution_count": 14,
   "metadata": {},
   "outputs": [],
   "source": [
    "def calculate_average_over_under_pixels(df):\n",
    "    # 클래스별 전체 결과를 저장할 딕셔너리\n",
    "    total_class_metrics = {class_name: {\"gt_pixels\": 0, \"over_pixels\": 0, \"under_pixels\": 0, \"image_count\": 0} for class_name in CLASSES}\n",
    "    img_names = df['image_name'].unique()  # 이미지 이름 목록\n",
    "\n",
    "    for idx in tqdm(range(len(img_names)), desc=\"Processing images\", unit=\"image\"):\n",
    "        # 현재 이미지에 해당하는 데이터\n",
    "        df_ = df[df['image_name'] == img_names[idx]]\n",
    "        label_path = df_['label_path'].iloc[0]\n",
    "\n",
    "        # GT 라벨 생성\n",
    "        gt_label = None\n",
    "        with open(os.path.join(LABEL_ROOT, label_path), \"r\") as f:\n",
    "            annotations = json.load(f)\n",
    "        annotations = annotations[\"annotations\"]\n",
    "\n",
    "        for ann in annotations:\n",
    "            c = ann[\"label\"]\n",
    "            class_ind = CLASS2IND[c]\n",
    "            points = np.array(ann[\"points\"])\n",
    "\n",
    "            if gt_label is None:\n",
    "                gt_label = np.zeros((2048, 2048, len(CLASSES)), dtype=np.uint8)\n",
    "\n",
    "            class_label = np.zeros(gt_label.shape[:2], dtype=np.uint8)\n",
    "            cv2.fillPoly(class_label, [points], 1)\n",
    "            gt_label[..., class_ind] = class_label\n",
    "\n",
    "        # 예측 라벨 생성\n",
    "        pred_label = np.zeros_like(gt_label, dtype=np.uint8)\n",
    "        for _, row in df_.iterrows():\n",
    "            c = row['class']\n",
    "            class_ind = CLASS2IND[c]\n",
    "            rle = row['rle']\n",
    "            mask = rle_to_mask(rle, gt_label.shape[0], gt_label.shape[1])\n",
    "            pred_label[..., class_ind] = mask\n",
    "\n",
    "        # 이미지별 Over/Under-Prediction 계산\n",
    "        for class_ind in range(len(CLASSES)):\n",
    "            class_name = CLASSES[class_ind]\n",
    "            class_gt = gt_label[..., class_ind]\n",
    "            class_pred = pred_label[..., class_ind]\n",
    "\n",
    "            over_pixels = np.sum(class_pred > class_gt)\n",
    "            under_pixels = np.sum(class_pred < class_gt)\n",
    "            gt_pixels = np.sum(class_gt)\n",
    "\n",
    "            # 클래스별로 결과 누적\n",
    "            total_class_metrics[class_name][\"gt_pixels\"] += gt_pixels\n",
    "            total_class_metrics[class_name][\"over_pixels\"] += over_pixels\n",
    "            total_class_metrics[class_name][\"under_pixels\"] += under_pixels\n",
    "            total_class_metrics[class_name][\"image_count\"] += 1  # 해당 클래스가 등장한 이미지 수\n",
    "\n",
    "    # 평균 계산\n",
    "    avg_metrics = {}\n",
    "    for class_name, metrics in total_class_metrics.items():\n",
    "        image_count = metrics[\"image_count\"]  # 해당 클래스가 등장한 이미지 수\n",
    "        if image_count > 0:\n",
    "            avg_metrics[class_name] = {\n",
    "                \"avg_over_pixels\": metrics[\"over_pixels\"] / image_count,\n",
    "                \"avg_under_pixels\": metrics[\"under_pixels\"] / image_count,\n",
    "            }\n",
    "        else:\n",
    "            avg_metrics[class_name] = {\"avg_over_pixels\": 0, \"avg_under_pixels\": 0}\n",
    "\n",
    "    return avg_metrics\n",
    "\n"
   ]
  },
  {
   "cell_type": "code",
   "execution_count": 15,
   "metadata": {},
   "outputs": [
    {
     "name": "stderr",
     "output_type": "stream",
     "text": [
      "Processing images: 100%|██████████| 158/158 [08:22<00:00,  3.18s/image]\n"
     ]
    }
   ],
   "source": [
    "image_metrics = calculate_average_over_under_pixels(df)"
   ]
  },
  {
   "cell_type": "code",
   "execution_count": 16,
   "metadata": {},
   "outputs": [
    {
     "name": "stdout",
     "output_type": "stream",
     "text": [
      "Class: finger-1\n",
      "  Average Over Pixels: 213.22\n",
      "  Average Under Pixels: 312.02\n",
      "Class: finger-2\n",
      "  Average Over Pixels: 228.18\n",
      "  Average Under Pixels: 358.41\n",
      "Class: finger-3\n",
      "  Average Over Pixels: 397.76\n",
      "  Average Under Pixels: 337.59\n",
      "Class: finger-4\n",
      "  Average Over Pixels: 126.11\n",
      "  Average Under Pixels: 130.26\n",
      "Class: finger-5\n",
      "  Average Over Pixels: 202.66\n",
      "  Average Under Pixels: 283.37\n",
      "Class: finger-6\n",
      "  Average Over Pixels: 260.50\n",
      "  Average Under Pixels: 343.78\n",
      "Class: finger-7\n",
      "  Average Over Pixels: 539.68\n",
      "  Average Under Pixels: 574.34\n",
      "Class: finger-8\n",
      "  Average Over Pixels: 141.59\n",
      "  Average Under Pixels: 139.22\n",
      "Class: finger-9\n",
      "  Average Over Pixels: 204.85\n",
      "  Average Under Pixels: 304.05\n",
      "Class: finger-10\n",
      "  Average Over Pixels: 299.38\n",
      "  Average Under Pixels: 321.67\n",
      "Class: finger-11\n",
      "  Average Over Pixels: 712.42\n",
      "  Average Under Pixels: 723.73\n",
      "Class: finger-12\n",
      "  Average Over Pixels: 166.11\n",
      "  Average Under Pixels: 117.04\n",
      "Class: finger-13\n",
      "  Average Over Pixels: 211.61\n",
      "  Average Under Pixels: 269.27\n",
      "Class: finger-14\n",
      "  Average Over Pixels: 306.60\n",
      "  Average Under Pixels: 323.08\n",
      "Class: finger-15\n",
      "  Average Over Pixels: 442.92\n",
      "  Average Under Pixels: 524.37\n",
      "Class: finger-16\n",
      "  Average Over Pixels: 146.39\n",
      "  Average Under Pixels: 96.04\n",
      "Class: finger-17\n",
      "  Average Over Pixels: 206.75\n",
      "  Average Under Pixels: 204.67\n",
      "Class: finger-18\n",
      "  Average Over Pixels: 266.51\n",
      "  Average Under Pixels: 205.10\n",
      "Class: finger-19\n",
      "  Average Over Pixels: 374.54\n",
      "  Average Under Pixels: 338.04\n",
      "Class: Trapezium\n",
      "  Average Over Pixels: 488.91\n",
      "  Average Under Pixels: 434.31\n",
      "Class: Trapezoid\n",
      "  Average Over Pixels: 315.81\n",
      "  Average Under Pixels: 558.67\n",
      "Class: Capitate\n",
      "  Average Over Pixels: 473.20\n",
      "  Average Under Pixels: 553.74\n",
      "Class: Hamate\n",
      "  Average Over Pixels: 493.58\n",
      "  Average Under Pixels: 466.22\n",
      "Class: Scaphoid\n",
      "  Average Over Pixels: 256.12\n",
      "  Average Under Pixels: 334.30\n",
      "Class: Lunate\n",
      "  Average Over Pixels: 309.71\n",
      "  Average Under Pixels: 276.25\n",
      "Class: Triquetrum\n",
      "  Average Over Pixels: 343.30\n",
      "  Average Under Pixels: 300.85\n",
      "Class: Pisiform\n",
      "  Average Over Pixels: 278.63\n",
      "  Average Under Pixels: 441.16\n",
      "Class: Radius\n",
      "  Average Over Pixels: 894.30\n",
      "  Average Under Pixels: 620.03\n",
      "Class: Ulna\n",
      "  Average Over Pixels: 467.15\n",
      "  Average Under Pixels: 444.02\n"
     ]
    }
   ],
   "source": [
    "for class_name, metrics in image_metrics.items():\n",
    "    print(f\"Class: {class_name}\")\n",
    "    print(f\"  Average Over Pixels: {metrics['avg_over_pixels']:.2f}\")\n",
    "    print(f\"  Average Under Pixels: {metrics['avg_under_pixels']:.2f}\")"
   ]
  },
  {
   "cell_type": "code",
   "execution_count": 19,
   "metadata": {},
   "outputs": [
    {
     "name": "stdout",
     "output_type": "stream",
     "text": [
      "total over pixels: 9768.474683544304\n",
      "total under pixels: 10335.582278481013\n"
     ]
    },
    {
     "data": {
      "image/png": "[encoded data removed]",
      "text/plain": [
       "<Figure size 800x600 with 1 Axes>"
      ]
     },
     "metadata": {},
     "output_type": "display_data"
    }
   ],
   "source": [
    "import matplotlib.pyplot as plt\n",
    "\n",
    "# over_pixels, under_pixels의 합을 계산\n",
    "total_over_pixels = sum(metrics['avg_over_pixels'] for metrics in image_metrics.values())\n",
    "total_under_pixels = sum(metrics['avg_under_pixels'] for metrics in image_metrics.values())\n",
    "\n",
    "# 시각화\n",
    "labels = ['Over Pixels', 'Under Pixels']\n",
    "values = [total_over_pixels, total_under_pixels]\n",
    "\n",
    "print(f'total over pixels: {total_over_pixels}')\n",
    "print(f'total under pixels: {total_under_pixels}')\n",
    "\n",
    "# 막대 차트 그리기\n",
    "fig, ax = plt.subplots(figsize=(8, 6))\n",
    "ax.bar(labels, values, color=['blue', 'red'])\n",
    "\n",
    "# 제목 및 레이블\n",
    "ax.set_title('Total Over and Under Pixels')\n",
    "ax.set_ylabel('Pixel Count')\n",
    "\n",
    "# 그래프 표시\n",
    "plt.tight_layout()\n",
    "plt.show()\n"
   ]
  },
  {
   "cell_type": "markdown",
   "metadata": {},
   "source": [
    "## 각 클래스 별 over & under predict 비율에 따라 threshold 조정"
   ]
  },
  {
   "cell_type": "code",
   "execution_count": 20,
   "metadata": {},
   "outputs": [],
   "source": [
    "def adjust_thresholds_dynamic(avg_metrics, initial_thresholds, base_rate=[0.05, 0.10, 0.15, 0.20], max_adjust=0.3, min_ratio=0.5, max_ratio=2.0):\n",
    "    \"\"\"\n",
    "    Under/Over 비율 기반으로 threshold를 동적으로 조정 (비율에 따라 조정 폭이 변동)\n",
    "    :param avg_metrics: 클래스별 평균 over/under 픽셀 수 딕셔너리\n",
    "    :param initial_thresholds: 초기 threshold 값 딕셔너리\n",
    "    :param base_rate: 비율이 1일 때의 기본 조정 폭 (예: [0.05, 0.10, 0.15, 0.2])\n",
    "    :param max_adjust: 최대 조정 폭 제한 (예: 0.3)\n",
    "    :param min_ratio: Under/Over 비율의 최소 허용치 (0.5 미만이면 threshold 증가)\n",
    "    :param max_ratio: Under/Over 비율의 최대 허용치 (2.0 초과면 threshold 감소)\n",
    "    :return: 4개의 조정된 threshold 리스트 (각각의 비율에 따라)\n",
    "    \"\"\"\n",
    "    # 각 비율에 맞는 threshold들을 계산할 리스트\n",
    "    adjusted_thresholds = {base_rate[0]: [], base_rate[1]: [], base_rate[2]: [], base_rate[3]: []}\n",
    "    \n",
    "    for class_name, metrics in avg_metrics.items():\n",
    "        over_pixels = metrics[\"avg_over_pixels\"]\n",
    "        under_pixels = metrics[\"avg_under_pixels\"]\n",
    "        \n",
    "        # 비율 계산 (0으로 나누는 상황 방지)\n",
    "        if over_pixels > 0:\n",
    "            ratio = under_pixels / over_pixels\n",
    "        else:\n",
    "            ratio = float('inf')  # Over-pixels가 0이면 비율이 무한대로 간주\n",
    "        \n",
    "        print(f\"Class: {class_name}\")\n",
    "        print(f\"  Over Pixels: {over_pixels}, Under Pixels: {under_pixels}, Ratio: {ratio:.2f}\")\n",
    "        \n",
    "        # 현재 클래스의 threshold\n",
    "        current_threshold = initial_thresholds[class_name]\n",
    "        \n",
    "        # 각 비율을 기준으로 threshold를 동적으로 조정하고, 그 결과를 4개의 리스트에 저장\n",
    "        for rate in base_rate:\n",
    "            if ratio < min_ratio:  # 비율이 너무 작을 경우 threshold 증가\n",
    "                adjust_amount = min(rate, max_adjust)\n",
    "                adjusted_threshold = current_threshold + adjust_amount\n",
    "            elif min_ratio <= ratio < 1:  # 비율이 1보다 작은 경우\n",
    "                adjust_amount = min(rate / ratio, max_adjust)\n",
    "                adjusted_threshold = current_threshold + adjust_amount\n",
    "            elif 1 <= ratio <= max_ratio:  # 비율이 1과 max_ratio 사이\n",
    "                adjust_amount = min(rate * ratio, max_adjust)\n",
    "                adjusted_threshold = current_threshold - adjust_amount\n",
    "            else:  # 비율이 너무 클 경우 threshold 감소\n",
    "                adjust_amount = min(rate, max_adjust)\n",
    "                adjusted_threshold = current_threshold - adjust_amount\n",
    "\n",
    "            # Threshold 값 제한\n",
    "            adjusted_threshold = max(0.2, min(0.8, adjusted_threshold))\n",
    "            \n",
    "            # 해당 rate에 해당하는 threshold 리스트에 추가\n",
    "            adjusted_thresholds[rate].append(adjusted_threshold)\n",
    "            \n",
    "            print(f\"  Adjusted Threshold (base_rate={rate}): {adjusted_threshold:.2f} (Adjust Amount: {adjust_amount:.2f})\")\n",
    "    \n",
    "    return adjusted_thresholds\n"
   ]
  },
  {
   "cell_type": "code",
   "execution_count": 24,
   "metadata": {},
   "outputs": [
    {
     "name": "stdout",
     "output_type": "stream",
     "text": [
      "Class: finger-1\n",
      "  Over Pixels: 213.22151898734177, Under Pixels: 312.0189873417722, Ratio: 1.46\n",
      "  Adjusted Threshold (base_rate=0.05): 0.43 (Adjust Amount: 0.07)\n",
      "  Adjusted Threshold (base_rate=0.1): 0.35 (Adjust Amount: 0.15)\n",
      "  Adjusted Threshold (base_rate=0.15): 0.28 (Adjust Amount: 0.22)\n",
      "  Adjusted Threshold (base_rate=0.2): 0.21 (Adjust Amount: 0.29)\n",
      "Class: finger-2\n",
      "  Over Pixels: 228.1772151898734, Under Pixels: 358.40506329113924, Ratio: 1.57\n",
      "  Adjusted Threshold (base_rate=0.05): 0.42 (Adjust Amount: 0.08)\n",
      "  Adjusted Threshold (base_rate=0.1): 0.34 (Adjust Amount: 0.16)\n",
      "  Adjusted Threshold (base_rate=0.15): 0.26 (Adjust Amount: 0.24)\n",
      "  Adjusted Threshold (base_rate=0.2): 0.20 (Adjust Amount: 0.30)\n",
      "Class: finger-3\n",
      "  Over Pixels: 397.75949367088606, Under Pixels: 337.5886075949367, Ratio: 0.85\n",
      "  Adjusted Threshold (base_rate=0.05): 0.56 (Adjust Amount: 0.06)\n",
      "  Adjusted Threshold (base_rate=0.1): 0.62 (Adjust Amount: 0.12)\n",
      "  Adjusted Threshold (base_rate=0.15): 0.68 (Adjust Amount: 0.18)\n",
      "  Adjusted Threshold (base_rate=0.2): 0.74 (Adjust Amount: 0.24)\n",
      "Class: finger-4\n",
      "  Over Pixels: 126.10759493670886, Under Pixels: 130.2594936708861, Ratio: 1.03\n",
      "  Adjusted Threshold (base_rate=0.05): 0.45 (Adjust Amount: 0.05)\n",
      "  Adjusted Threshold (base_rate=0.1): 0.40 (Adjust Amount: 0.10)\n",
      "  Adjusted Threshold (base_rate=0.15): 0.35 (Adjust Amount: 0.15)\n",
      "  Adjusted Threshold (base_rate=0.2): 0.29 (Adjust Amount: 0.21)\n",
      "Class: finger-5\n",
      "  Over Pixels: 202.66455696202533, Under Pixels: 283.373417721519, Ratio: 1.40\n",
      "  Adjusted Threshold (base_rate=0.05): 0.43 (Adjust Amount: 0.07)\n",
      "  Adjusted Threshold (base_rate=0.1): 0.36 (Adjust Amount: 0.14)\n",
      "  Adjusted Threshold (base_rate=0.15): 0.29 (Adjust Amount: 0.21)\n",
      "  Adjusted Threshold (base_rate=0.2): 0.22 (Adjust Amount: 0.28)\n",
      "Class: finger-6\n",
      "  Over Pixels: 260.5, Under Pixels: 343.7848101265823, Ratio: 1.32\n",
      "  Adjusted Threshold (base_rate=0.05): 0.43 (Adjust Amount: 0.07)\n",
      "  Adjusted Threshold (base_rate=0.1): 0.37 (Adjust Amount: 0.13)\n",
      "  Adjusted Threshold (base_rate=0.15): 0.30 (Adjust Amount: 0.20)\n",
      "  Adjusted Threshold (base_rate=0.2): 0.24 (Adjust Amount: 0.26)\n",
      "Class: finger-7\n",
      "  Over Pixels: 539.6772151898734, Under Pixels: 574.3354430379746, Ratio: 1.06\n",
      "  Adjusted Threshold (base_rate=0.05): 0.45 (Adjust Amount: 0.05)\n",
      "  Adjusted Threshold (base_rate=0.1): 0.39 (Adjust Amount: 0.11)\n",
      "  Adjusted Threshold (base_rate=0.15): 0.34 (Adjust Amount: 0.16)\n",
      "  Adjusted Threshold (base_rate=0.2): 0.29 (Adjust Amount: 0.21)\n",
      "Class: finger-8\n",
      "  Over Pixels: 141.58860759493672, Under Pixels: 139.21518987341773, Ratio: 0.98\n",
      "  Adjusted Threshold (base_rate=0.05): 0.55 (Adjust Amount: 0.05)\n",
      "  Adjusted Threshold (base_rate=0.1): 0.60 (Adjust Amount: 0.10)\n",
      "  Adjusted Threshold (base_rate=0.15): 0.65 (Adjust Amount: 0.15)\n",
      "  Adjusted Threshold (base_rate=0.2): 0.70 (Adjust Amount: 0.20)\n",
      "Class: finger-9\n",
      "  Over Pixels: 204.85443037974684, Under Pixels: 304.0506329113924, Ratio: 1.48\n",
      "  Adjusted Threshold (base_rate=0.05): 0.43 (Adjust Amount: 0.07)\n",
      "  Adjusted Threshold (base_rate=0.1): 0.35 (Adjust Amount: 0.15)\n",
      "  Adjusted Threshold (base_rate=0.15): 0.28 (Adjust Amount: 0.22)\n",
      "  Adjusted Threshold (base_rate=0.2): 0.20 (Adjust Amount: 0.30)\n",
      "Class: finger-10\n",
      "  Over Pixels: 299.37974683544303, Under Pixels: 321.67088607594934, Ratio: 1.07\n",
      "  Adjusted Threshold (base_rate=0.05): 0.45 (Adjust Amount: 0.05)\n",
      "  Adjusted Threshold (base_rate=0.1): 0.39 (Adjust Amount: 0.11)\n",
      "  Adjusted Threshold (base_rate=0.15): 0.34 (Adjust Amount: 0.16)\n",
      "  Adjusted Threshold (base_rate=0.2): 0.29 (Adjust Amount: 0.21)\n",
      "Class: finger-11\n",
      "  Over Pixels: 712.4240506329114, Under Pixels: 723.7278481012659, Ratio: 1.02\n",
      "  Adjusted Threshold (base_rate=0.05): 0.45 (Adjust Amount: 0.05)\n",
      "  Adjusted Threshold (base_rate=0.1): 0.40 (Adjust Amount: 0.10)\n",
      "  Adjusted Threshold (base_rate=0.15): 0.35 (Adjust Amount: 0.15)\n",
      "  Adjusted Threshold (base_rate=0.2): 0.30 (Adjust Amount: 0.20)\n",
      "Class: finger-12\n",
      "  Over Pixels: 166.10759493670886, Under Pixels: 117.0379746835443, Ratio: 0.70\n",
      "  Adjusted Threshold (base_rate=0.05): 0.57 (Adjust Amount: 0.07)\n",
      "  Adjusted Threshold (base_rate=0.1): 0.64 (Adjust Amount: 0.14)\n",
      "  Adjusted Threshold (base_rate=0.15): 0.71 (Adjust Amount: 0.21)\n",
      "  Adjusted Threshold (base_rate=0.2): 0.78 (Adjust Amount: 0.28)\n",
      "Class: finger-13\n",
      "  Over Pixels: 211.60759493670886, Under Pixels: 269.26582278481015, Ratio: 1.27\n",
      "  Adjusted Threshold (base_rate=0.05): 0.44 (Adjust Amount: 0.06)\n",
      "  Adjusted Threshold (base_rate=0.1): 0.37 (Adjust Amount: 0.13)\n",
      "  Adjusted Threshold (base_rate=0.15): 0.31 (Adjust Amount: 0.19)\n",
      "  Adjusted Threshold (base_rate=0.2): 0.25 (Adjust Amount: 0.25)\n",
      "Class: finger-14\n",
      "  Over Pixels: 306.6012658227848, Under Pixels: 323.0822784810127, Ratio: 1.05\n",
      "  Adjusted Threshold (base_rate=0.05): 0.45 (Adjust Amount: 0.05)\n",
      "  Adjusted Threshold (base_rate=0.1): 0.39 (Adjust Amount: 0.11)\n",
      "  Adjusted Threshold (base_rate=0.15): 0.34 (Adjust Amount: 0.16)\n",
      "  Adjusted Threshold (base_rate=0.2): 0.29 (Adjust Amount: 0.21)\n",
      "Class: finger-15\n",
      "  Over Pixels: 442.9177215189873, Under Pixels: 524.373417721519, Ratio: 1.18\n",
      "  Adjusted Threshold (base_rate=0.05): 0.44 (Adjust Amount: 0.06)\n",
      "  Adjusted Threshold (base_rate=0.1): 0.38 (Adjust Amount: 0.12)\n",
      "  Adjusted Threshold (base_rate=0.15): 0.32 (Adjust Amount: 0.18)\n",
      "  Adjusted Threshold (base_rate=0.2): 0.26 (Adjust Amount: 0.24)\n",
      "Class: finger-16\n",
      "  Over Pixels: 146.3860759493671, Under Pixels: 96.0379746835443, Ratio: 0.66\n",
      "  Adjusted Threshold (base_rate=0.05): 0.58 (Adjust Amount: 0.08)\n",
      "  Adjusted Threshold (base_rate=0.1): 0.65 (Adjust Amount: 0.15)\n",
      "  Adjusted Threshold (base_rate=0.15): 0.73 (Adjust Amount: 0.23)\n",
      "  Adjusted Threshold (base_rate=0.2): 0.80 (Adjust Amount: 0.30)\n",
      "Class: finger-17\n",
      "  Over Pixels: 206.75316455696202, Under Pixels: 204.67088607594937, Ratio: 0.99\n",
      "  Adjusted Threshold (base_rate=0.05): 0.55 (Adjust Amount: 0.05)\n",
      "  Adjusted Threshold (base_rate=0.1): 0.60 (Adjust Amount: 0.10)\n",
      "  Adjusted Threshold (base_rate=0.15): 0.65 (Adjust Amount: 0.15)\n",
      "  Adjusted Threshold (base_rate=0.2): 0.70 (Adjust Amount: 0.20)\n",
      "Class: finger-18\n",
      "  Over Pixels: 266.5126582278481, Under Pixels: 205.1012658227848, Ratio: 0.77\n",
      "  Adjusted Threshold (base_rate=0.05): 0.56 (Adjust Amount: 0.06)\n",
      "  Adjusted Threshold (base_rate=0.1): 0.63 (Adjust Amount: 0.13)\n",
      "  Adjusted Threshold (base_rate=0.15): 0.69 (Adjust Amount: 0.19)\n",
      "  Adjusted Threshold (base_rate=0.2): 0.76 (Adjust Amount: 0.26)\n",
      "Class: finger-19\n",
      "  Over Pixels: 374.54430379746833, Under Pixels: 338.0379746835443, Ratio: 0.90\n",
      "  Adjusted Threshold (base_rate=0.05): 0.56 (Adjust Amount: 0.06)\n",
      "  Adjusted Threshold (base_rate=0.1): 0.61 (Adjust Amount: 0.11)\n",
      "  Adjusted Threshold (base_rate=0.15): 0.67 (Adjust Amount: 0.17)\n",
      "  Adjusted Threshold (base_rate=0.2): 0.72 (Adjust Amount: 0.22)\n",
      "Class: Trapezium\n",
      "  Over Pixels: 488.90506329113924, Under Pixels: 434.3101265822785, Ratio: 0.89\n",
      "  Adjusted Threshold (base_rate=0.05): 0.56 (Adjust Amount: 0.06)\n",
      "  Adjusted Threshold (base_rate=0.1): 0.61 (Adjust Amount: 0.11)\n",
      "  Adjusted Threshold (base_rate=0.15): 0.67 (Adjust Amount: 0.17)\n",
      "  Adjusted Threshold (base_rate=0.2): 0.73 (Adjust Amount: 0.23)\n",
      "Class: Trapezoid\n",
      "  Over Pixels: 315.8101265822785, Under Pixels: 558.6708860759494, Ratio: 1.77\n",
      "  Adjusted Threshold (base_rate=0.05): 0.41 (Adjust Amount: 0.09)\n",
      "  Adjusted Threshold (base_rate=0.1): 0.32 (Adjust Amount: 0.18)\n",
      "  Adjusted Threshold (base_rate=0.15): 0.23 (Adjust Amount: 0.27)\n",
      "  Adjusted Threshold (base_rate=0.2): 0.20 (Adjust Amount: 0.30)\n",
      "Class: Capitate\n",
      "  Over Pixels: 473.19620253164555, Under Pixels: 553.7405063291139, Ratio: 1.17\n",
      "  Adjusted Threshold (base_rate=0.05): 0.44 (Adjust Amount: 0.06)\n",
      "  Adjusted Threshold (base_rate=0.1): 0.38 (Adjust Amount: 0.12)\n",
      "  Adjusted Threshold (base_rate=0.15): 0.32 (Adjust Amount: 0.18)\n",
      "  Adjusted Threshold (base_rate=0.2): 0.27 (Adjust Amount: 0.23)\n",
      "Class: Hamate\n",
      "  Over Pixels: 493.5759493670886, Under Pixels: 466.2151898734177, Ratio: 0.94\n",
      "  Adjusted Threshold (base_rate=0.05): 0.55 (Adjust Amount: 0.05)\n",
      "  Adjusted Threshold (base_rate=0.1): 0.61 (Adjust Amount: 0.11)\n",
      "  Adjusted Threshold (base_rate=0.15): 0.66 (Adjust Amount: 0.16)\n",
      "  Adjusted Threshold (base_rate=0.2): 0.71 (Adjust Amount: 0.21)\n",
      "Class: Scaphoid\n",
      "  Over Pixels: 256.12025316455697, Under Pixels: 334.30379746835445, Ratio: 1.31\n",
      "  Adjusted Threshold (base_rate=0.05): 0.43 (Adjust Amount: 0.07)\n",
      "  Adjusted Threshold (base_rate=0.1): 0.37 (Adjust Amount: 0.13)\n",
      "  Adjusted Threshold (base_rate=0.15): 0.30 (Adjust Amount: 0.20)\n",
      "  Adjusted Threshold (base_rate=0.2): 0.24 (Adjust Amount: 0.26)\n",
      "Class: Lunate\n",
      "  Over Pixels: 309.7088607594937, Under Pixels: 276.246835443038, Ratio: 0.89\n",
      "  Adjusted Threshold (base_rate=0.05): 0.56 (Adjust Amount: 0.06)\n",
      "  Adjusted Threshold (base_rate=0.1): 0.61 (Adjust Amount: 0.11)\n",
      "  Adjusted Threshold (base_rate=0.15): 0.67 (Adjust Amount: 0.17)\n",
      "  Adjusted Threshold (base_rate=0.2): 0.72 (Adjust Amount: 0.22)\n",
      "Class: Triquetrum\n",
      "  Over Pixels: 343.2974683544304, Under Pixels: 300.8481012658228, Ratio: 0.88\n",
      "  Adjusted Threshold (base_rate=0.05): 0.56 (Adjust Amount: 0.06)\n",
      "  Adjusted Threshold (base_rate=0.1): 0.61 (Adjust Amount: 0.11)\n",
      "  Adjusted Threshold (base_rate=0.15): 0.67 (Adjust Amount: 0.17)\n",
      "  Adjusted Threshold (base_rate=0.2): 0.73 (Adjust Amount: 0.23)\n",
      "Class: Pisiform\n",
      "  Over Pixels: 278.626582278481, Under Pixels: 441.1645569620253, Ratio: 1.58\n",
      "  Adjusted Threshold (base_rate=0.05): 0.42 (Adjust Amount: 0.08)\n",
      "  Adjusted Threshold (base_rate=0.1): 0.34 (Adjust Amount: 0.16)\n",
      "  Adjusted Threshold (base_rate=0.15): 0.26 (Adjust Amount: 0.24)\n",
      "  Adjusted Threshold (base_rate=0.2): 0.20 (Adjust Amount: 0.30)\n",
      "Class: Radius\n",
      "  Over Pixels: 894.2974683544304, Under Pixels: 620.0253164556962, Ratio: 0.69\n",
      "  Adjusted Threshold (base_rate=0.05): 0.57 (Adjust Amount: 0.07)\n",
      "  Adjusted Threshold (base_rate=0.1): 0.64 (Adjust Amount: 0.14)\n",
      "  Adjusted Threshold (base_rate=0.15): 0.72 (Adjust Amount: 0.22)\n",
      "  Adjusted Threshold (base_rate=0.2): 0.79 (Adjust Amount: 0.29)\n",
      "Class: Ulna\n",
      "  Over Pixels: 467.1518987341772, Under Pixels: 444.0189873417722, Ratio: 0.95\n",
      "  Adjusted Threshold (base_rate=0.05): 0.55 (Adjust Amount: 0.05)\n",
      "  Adjusted Threshold (base_rate=0.1): 0.61 (Adjust Amount: 0.11)\n",
      "  Adjusted Threshold (base_rate=0.15): 0.66 (Adjust Amount: 0.16)\n",
      "  Adjusted Threshold (base_rate=0.2): 0.71 (Adjust Amount: 0.21)\n"
     ]
    }
   ],
   "source": [
    "# 초기 threshold 설정\n",
    "initial_thresholds = {class_name: 0.5 for class_name in CLASSES}\n",
    "\n",
    "# 평균 over/under 비율로 threshold 조정\n",
    "new_thresholds = adjust_thresholds_dynamic(image_metrics, initial_thresholds)"
   ]
  },
  {
   "cell_type": "code",
   "execution_count": 25,
   "metadata": {},
   "outputs": [
    {
     "name": "stdout",
     "output_type": "stream",
     "text": [
      "0.05: [0.42683220042150255, 0.42146344169532896, 0.5589118656142785, 0.4483538268506901, 0.4300880672058961, 0.4340144318375082, 0.44678898544605894, 0.5508524277141298, 0.42578861185775635, 0.446277113018477, 0.4492066664889884, 0.5709631191866753, 0.43637614404498415, 0.4473123051834114, 0.4408046469756077, 0.5762126005008568, 0.5505086894674995, 0.5649709930259829, 0.5553997378768021, 0.5562852479561651, 0.41154956110465346, 0.44148933324416506, 0.5529343487822758, 0.43473694615365605, 0.5560565445505992, 0.5570549501409517, 0.42083229221088975, 0.5721178187905761, 0.552604946190578]\n",
      "0.1: [0.3536644008430051, 0.3429268833906579, 0.6178237312285569, 0.39670765370138017, 0.36017613441179225, 0.3680288636750164, 0.3935779708921179, 0.6017048554282597, 0.3515772237155127, 0.39255422603695406, 0.39841333297797676, 0.6419262383733506, 0.3727522880899683, 0.39462461036682284, 0.38160929395121534, 0.6524252010017135, 0.6010173789349991, 0.6299419860519657, 0.6107994757536042, 0.61257049591233, 0.323099122209307, 0.3829786664883301, 0.6058686975645516, 0.3694738923073121, 0.6121130891011982, 0.6141099002819035, 0.3416645844217795, 0.6442356375811523, 0.605209892381156]\n",
      "0.15: [0.2804966012645077, 0.2643903250859869, 0.6767355968428355, 0.34506148055207025, 0.2902642016176884, 0.3020432955125246, 0.3403669563381768, 0.6525572831423896, 0.27736583557326905, 0.33883133905543106, 0.3476199994669652, 0.7128893575600259, 0.30912843213495245, 0.3419369155502343, 0.32241394092682296, 0.7286378015025702, 0.6515260684024986, 0.6949129790779485, 0.6661992136304062, 0.668855743868495, 0.2346486833139605, 0.3244679997324952, 0.6588030463468274, 0.3042108384609682, 0.6681696336517974, 0.6711648504228552, 0.2624968766326693, 0.7163534563717284, 0.657814838571734]\n",
      "0.2: [0.20732880168601026, 0.2, 0.7356474624571139, 0.29341530740276034, 0.2203522688235845, 0.23605772735003278, 0.28715594178423576, 0.7034097108565194, 0.2031544474310254, 0.2851084520739081, 0.29682666595595353, 0.7838524767467013, 0.24550457617993654, 0.2892492207336457, 0.26321858790243063, 0.8, 0.7020347578699981, 0.7598839721039314, 0.7215989515072084, 0.7251409918246601, 0.2, 0.2659573329766602, 0.7117373951291033, 0.23894778461462424, 0.7242261782023965, 0.728219800563807, 0.2, 0.7884712751623046, 0.710419784762312]\n"
     ]
    }
   ],
   "source": [
    "for key, value in new_thresholds.items():\n",
    "    print(f'{key}: {value}')"
   ]
  },
  {
   "cell_type": "code",
   "execution_count": null,
   "metadata": {},
   "outputs": [],
   "source": []
  }
 ],
 "metadata": {
  "kernelspec": {
   "display_name": "base",
   "language": "python",
   "name": "python3"
  },
  "language_info": {
   "codemirror_mode": {
    "name": "ipython",
    "version": 3
   },
   "file_extension": ".py",
   "mimetype": "text/x-python",
   "name": "python",
   "nbconvert_exporter": "python",
   "pygments_lexer": "ipython3",
   "version": "3.10.13"
  }
 },
 "nbformat": 4,
 "nbformat_minor": 2
}
